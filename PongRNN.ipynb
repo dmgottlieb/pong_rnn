{
 "cells": [
  {
   "cell_type": "code",
   "execution_count": 1,
   "metadata": {
    "collapsed": false
   },
   "outputs": [
    {
     "name": "stderr",
     "output_type": "stream",
     "text": [
      "Using Theano backend.\n",
      "/usr/local/lib/python2.7/site-packages/theano/tensor/signal/downsample.py:5: UserWarning: downsample module has been moved to the pool module.\n",
      "  warnings.warn(\"downsample module has been moved to the pool module.\")\n"
     ]
    }
   ],
   "source": [
    "import time, os, json\n",
    "import numpy as np\n",
    "from pandas import HDFStore, DataFrame\n",
    "import tables\n",
    "import matplotlib.pyplot as plt\n",
    "\n",
    "from cs231n.gradient_check import eval_numerical_gradient, eval_numerical_gradient_array\n",
    "\n",
    "from pong_rnn import PongRNN\n",
    "\n",
    "\n",
    "%matplotlib inline\n",
    "plt.rcParams['figure.figsize'] = (10.0, 8.0) # set default size of plots\n",
    "plt.rcParams['image.interpolation'] = 'nearest'\n",
    "plt.rcParams['image.cmap'] = 'gray'\n",
    "\n",
    "# for auto-reloading external modules\n",
    "# see http://stackoverflow.com/questions/1907993/autoreload-of-modules-in-ipython\n",
    "%load_ext autoreload\n",
    "%autoreload 2\n",
    "\n",
    "def rel_error(x, y):\n",
    "  \"\"\" returns relative error \"\"\"\n",
    "  return np.max(np.abs(x - y) / (np.maximum(1e-8, np.abs(x) + np.abs(y))))"
   ]
  },
  {
   "cell_type": "code",
   "execution_count": 60,
   "metadata": {
    "collapsed": false
   },
   "outputs": [
    {
     "name": "stdout",
     "output_type": "stream",
     "text": [
      "(450, 99, 32, 32)\n",
      "(450, 99, 2)\n",
      "(450, 99, 32, 32)\n",
      "(50, 99, 32, 32)\n",
      "(50, 99, 2)\n",
      "(50, 99, 32, 32)\n"
     ]
    }
   ],
   "source": [
    "# load data \n",
    "\n",
    "q_list = []\n",
    "p_list = []\n",
    "y_list = []\n",
    "\n",
    "with HDFStore('data.h5') as store: \n",
    "    for k in store.keys(): \n",
    "        d = np.array(store[k])[0:-1,:]\n",
    "        \n",
    "        assert d.shape == (100,1026)\n",
    "        \n",
    "        q = d[0:-1,0:1024].reshape((d.shape[0]-1, 32, 32))\n",
    "        p = d[1:,1024:1026]\n",
    "        y = d[1:,0:1024].reshape((d.shape[0]-1, 32, 32))\n",
    "        \n",
    "        assert ((q.shape[0] == p.shape[0]) and (q.shape[0] == y.shape[0]))\n",
    "        assert q.shape == (99,32,32)\n",
    "        assert p.shape == (99,2)\n",
    "        assert y.shape == (99,32,32)\n",
    "        \n",
    "        q_list.append(q)\n",
    "        p_list.append(p)\n",
    "        y_list.append(y)\n",
    "\n",
    "q_train = np.stack(q_list[0:-50])\n",
    "p_train = np.stack((p_list[0:-50]))\n",
    "y_train = np.stack(np.array(y_list[0:-50]))\n",
    "\n",
    "q_val = np.stack(q_list[-50:])\n",
    "p_val = np.stack(p_list[-50:])\n",
    "y_val = np.stack(y_list[-50:])\n",
    "\n",
    "#q_train = np.expand_dims(q_train, axis=2)\n",
    "\n",
    "# q_train = np.concatenate(q_train)\n",
    "# q_train = q_train.reshape((q_train.shape[0],1,q_train.shape[1],q_train.shape[2]))\n",
    "\n",
    "\n",
    "print q_train.shape\n",
    "print p_train.shape\n",
    "print y_train.shape\n",
    "\n",
    "print q_val.shape\n",
    "print p_val.shape\n",
    "print y_val.shape\n"
   ]
  },
  {
   "cell_type": "code",
   "execution_count": 95,
   "metadata": {
    "collapsed": true
   },
   "outputs": [],
   "source": [
    "y_train = y_train.reshape((-1,1024))\n",
    "q_train = q_train.reshape((-1,1,32,32))\n",
    "p_train = p_train.reshape((-1,2))"
   ]
  },
  {
   "cell_type": "code",
   "execution_count": 102,
   "metadata": {
    "collapsed": true
   },
   "outputs": [],
   "source": [
    "y_val = y_val.reshape((-1,1024))\n",
    "q_val = q_val.reshape((-1,1,32,32))\n",
    "p_val = p_val.reshape((-1,2))"
   ]
  },
  {
   "cell_type": "code",
   "execution_count": 150,
   "metadata": {
    "collapsed": false
   },
   "outputs": [
    {
     "name": "stdout",
     "output_type": "stream",
     "text": [
      "Epoch 1/1\n",
      "44550/44550 [==============================] - 314s - loss: 0.0574   \n"
     ]
    }
   ],
   "source": [
    "# test run the model\n",
    "\n",
    "model = PongRNN()\n",
    "model.train(q_train, p_train, y_train, nb_epoch=1)"
   ]
  },
  {
   "cell_type": "code",
   "execution_count": 201,
   "metadata": {
    "collapsed": false
   },
   "outputs": [
    {
     "ename": "TypeError",
     "evalue": "predict() got an unexpected keyword argument 'accuracy'",
     "output_type": "error",
     "traceback": [
      "\u001b[0;31m---------------------------------------------------------------------------\u001b[0m",
      "\u001b[0;31mTypeError\u001b[0m                                 Traceback (most recent call last)",
      "\u001b[0;32m<ipython-input-201-df9820b8a495>\u001b[0m in \u001b[0;36m<module>\u001b[0;34m()\u001b[0m\n\u001b[0;32m----> 1\u001b[0;31m \u001b[0my_pred\u001b[0m \u001b[0;34m=\u001b[0m \u001b[0mmodel\u001b[0m\u001b[0;34m.\u001b[0m\u001b[0mpredict\u001b[0m\u001b[0;34m(\u001b[0m\u001b[0mq_val\u001b[0m\u001b[0;34m,\u001b[0m \u001b[0mp_val\u001b[0m\u001b[0;34m)\u001b[0m\u001b[0;34m\u001b[0m\u001b[0m\n\u001b[0m",
      "\u001b[0;32m/Users/dave/pong/pong_rnn.py\u001b[0m in \u001b[0;36mpredict\u001b[0;34m(self, q, p, batch_size, verbose, accuracy)\u001b[0m\n\u001b[1;32m     63\u001b[0m \u001b[0;34m\u001b[0m\u001b[0m\n\u001b[1;32m     64\u001b[0m         \u001b[0;32mdef\u001b[0m \u001b[0mpredict\u001b[0m\u001b[0;34m(\u001b[0m\u001b[0mself\u001b[0m\u001b[0;34m,\u001b[0m \u001b[0mq\u001b[0m\u001b[0;34m,\u001b[0m \u001b[0mp\u001b[0m\u001b[0;34m,\u001b[0m \u001b[0mbatch_size\u001b[0m\u001b[0;34m=\u001b[0m\u001b[0;36m128\u001b[0m\u001b[0;34m,\u001b[0m \u001b[0mverbose\u001b[0m\u001b[0;34m=\u001b[0m\u001b[0;36m0\u001b[0m\u001b[0;34m,\u001b[0m \u001b[0maccuracy\u001b[0m\u001b[0;34m=\u001b[0m\u001b[0mTrue\u001b[0m\u001b[0;34m)\u001b[0m\u001b[0;34m:\u001b[0m\u001b[0;34m\u001b[0m\u001b[0m\n\u001b[0;32m---> 65\u001b[0;31m                 \u001b[0;32mreturn\u001b[0m \u001b[0mself\u001b[0m\u001b[0;34m.\u001b[0m\u001b[0mgraph\u001b[0m\u001b[0;34m.\u001b[0m\u001b[0mpredict\u001b[0m\u001b[0;34m(\u001b[0m\u001b[0;34m{\u001b[0m\u001b[0;34m'screen_in'\u001b[0m\u001b[0;34m:\u001b[0m \u001b[0mq\u001b[0m\u001b[0;34m,\u001b[0m \u001b[0;34m'control_in'\u001b[0m\u001b[0;34m:\u001b[0m \u001b[0mp\u001b[0m\u001b[0;34m}\u001b[0m\u001b[0;34m,\u001b[0m \u001b[0mbatch_size\u001b[0m\u001b[0;34m=\u001b[0m\u001b[0mbatch_size\u001b[0m\u001b[0;34m,\u001b[0m \u001b[0mverbose\u001b[0m\u001b[0;34m=\u001b[0m\u001b[0mverbose\u001b[0m\u001b[0;34m,\u001b[0m \u001b[0maccuracy\u001b[0m\u001b[0;34m=\u001b[0m\u001b[0maccuracy\u001b[0m\u001b[0;34m)\u001b[0m\u001b[0;34m\u001b[0m\u001b[0m\n\u001b[0m\u001b[1;32m     66\u001b[0m \u001b[0;34m\u001b[0m\u001b[0m\n\u001b[1;32m     67\u001b[0m \u001b[0;34m\u001b[0m\u001b[0m\n",
      "\u001b[0;31mTypeError\u001b[0m: predict() got an unexpected keyword argument 'accuracy'"
     ]
    }
   ],
   "source": [
    "y_pred = model.predict(q_val, p_val)"
   ]
  },
  {
   "cell_type": "code",
   "execution_count": 118,
   "metadata": {
    "collapsed": false
   },
   "outputs": [
    {
     "name": "stdout",
     "output_type": "stream",
     "text": [
      "(4950, 1024)\n",
      "0.249023437372\n"
     ]
    }
   ],
   "source": [
    "print y_pred['screen_out'].shape\n",
    "print np.mean(y_pred['screen_out']) * 255"
   ]
  },
  {
   "cell_type": "code",
   "execution_count": 125,
   "metadata": {
    "collapsed": false,
    "scrolled": true
   },
   "outputs": [
    {
     "data": {
      "image/png": "[encoded data removed]",
      "text/plain": [
       "<matplotlib.figure.Figure at 0x150c23c50>"
      ]
     },
     "metadata": {},
     "output_type": "display_data"
    },
    {
     "data": {
      "image/png": "[encoded data removed]",
      "text/plain": [
       "<matplotlib.figure.Figure at 0x1322c7b50>"
      ]
     },
     "metadata": {},
     "output_type": "display_data"
    },
    {
     "data": {
      "image/png": "[encoded data removed]",
      "text/plain": [
       "<matplotlib.figure.Figure at 0x1505e4f90>"
      ]
     },
     "metadata": {},
     "output_type": "display_data"
    },
    {
     "data": {
      "image/png": "[encoded data removed]",
      "text/plain": [
       "<matplotlib.figure.Figure at 0x133792c90>"
      ]
     },
     "metadata": {},
     "output_type": "display_data"
    },
    {
     "data": {
      "image/png": "[encoded data removed]",
      "text/plain": [
       "<matplotlib.figure.Figure at 0x131ee4e90>"
      ]
     },
     "metadata": {},
     "output_type": "display_data"
    },
    {
     "data": {
      "image/png": "[encoded data removed]",
      "text/plain": [
       "<matplotlib.figure.Figure at 0x1304f58d0>"
      ]
     },
     "metadata": {},
     "output_type": "display_data"
    }
   ],
   "source": [
    "plt.axis([0,32,0,32])\n",
    "plt.ion()\n",
    "\n",
    "for row in y_pred['screen_out'][0:6,:]: \n",
    "    frame = row.reshape((32,32))\n",
    "    #frame = np.where(frame > 0.1, 1, 0)\n",
    "    plt.imshow(frame)\n",
    "    plt.draw()\n",
    "    plt.show()\n",
    "    plt.pause(0.01)"
   ]
  },
  {
   "cell_type": "code",
   "execution_count": 124,
   "metadata": {
    "collapsed": true
   },
   "outputs": [],
   "source": [
    "# Visualize model predictions on validation set, save to gif\n",
    "\n",
    "from PIL import Image, ImageSequence\n",
    "from images2gif import writeGif\n",
    "\n",
    "frames = []\n",
    "\n",
    "for row in y_pred['screen_out'][0:300,:]: \n",
    "    frame = (row.reshape((32,32))*3060).astype(np.uint8)\n",
    "    image = Image.fromarray(frame, mode='L')\n",
    "    image = image.resize((256,256))\n",
    "    frames.append(image)\n",
    "    \n",
    " \n",
    "\n",
    "writeGif(\"predicted-frames.gif\", frames, duration=0.1)"
   ]
  },
  {
   "cell_type": "code",
   "execution_count": 148,
   "metadata": {
    "collapsed": false
   },
   "outputs": [
    {
     "data": {
      "image/png": "[encoded data removed]",
      "text/plain": [
       "<matplotlib.figure.Figure at 0x15c845e10>"
      ]
     },
     "metadata": {},
     "output_type": "display_data"
    }
   ],
   "source": [
    "# visualize histogram of values in predicted frames\n",
    "\n",
    "n, bins, patches = plt.hist(y_pred['screen_out'].flatten(), 10, facecolor='blue')\n",
    "plt.xlabel('Value')\n",
    "plt.ylabel('Occurrence')\n",
    "plt.title(r'Occurrence of pixel values in predicted frames')\n",
    "plt.axis([0, 0.5, 0, 100000])\n",
    "plt.grid(True)\n",
    "\n",
    "plt.show()\n"
   ]
  },
  {
   "cell_type": "code",
   "execution_count": 151,
   "metadata": {
    "collapsed": false
   },
   "outputs": [
    {
     "name": "stdout",
     "output_type": "stream",
     "text": [
      "[[[0 0 0 ..., 0 0 0]\n",
      "  [0 0 0 ..., 0 0 0]\n",
      "  [0 0 0 ..., 0 0 0]\n",
      "  ..., \n",
      "  [0 0 0 ..., 0 0 0]\n",
      "  [0 0 0 ..., 0 0 0]\n",
      "  [0 0 0 ..., 0 0 0]]]\n"
     ]
    }
   ],
   "source": [
    "# overfit small data"
   ]
  },
  {
   "cell_type": "code",
   "execution_count": 174,
   "metadata": {
    "collapsed": false,
    "scrolled": false
   },
   "outputs": [
    {
     "data": {
      "image/png": "[encoded data removed]",
      "text/plain": [
       "<matplotlib.figure.Figure at 0x134f61a90>"
      ]
     },
     "metadata": {},
     "output_type": "display_data"
    },
    {
     "data": {
      "image/png": "[encoded data removed]",
      "text/plain": [
       "<matplotlib.figure.Figure at 0x150ed7a10>"
      ]
     },
     "metadata": {},
     "output_type": "display_data"
    },
    {
     "data": {
      "image/png": "[encoded data removed]",
      "text/plain": [
       "<matplotlib.figure.Figure at 0x150582d50>"
      ]
     },
     "metadata": {},
     "output_type": "display_data"
    },
    {
     "data": {
      "image/png": "[encoded data removed]",
      "text/plain": [
       "<matplotlib.figure.Figure at 0x12dd47ad0>"
      ]
     },
     "metadata": {},
     "output_type": "display_data"
    }
   ],
   "source": [
    "# Code for prediction with inputs -- \n",
    "#\n",
    "# Results demonstrate that the model knows inputs control the paddles, although it doesn't know\n",
    "# which inputs control which paddles (this is likely a data problem). \n",
    "#\n",
    "# It also seems to grossly overestimate how fast the controls move the paddles, \n",
    "# and it either loses track of the ball or thinks the paddles move it or both. \n",
    "\n",
    "plt.axis([0,32,0,32])\n",
    "plt.ion()\n",
    "\n",
    "def imshow_noax(img, normalize=True):\n",
    "    \"\"\" Tiny helper to show images as uint8 and remove axis labels \"\"\"\n",
    "    if normalize:\n",
    "        img_max, img_min = np.max(img), np.min(img)\n",
    "        img = 255.0 * (img - img_min) / (img_max - img_min)\n",
    "    plt.imshow(img.astype('uint8'))\n",
    "    plt.gca().axis('off')\n",
    "\n",
    "frames = []\n",
    "\n",
    "i = 0\n",
    "q = q_train[0]\n",
    "\n",
    "input_possibilities = [\n",
    "    np.array([1,1]),\n",
    "    np.array([1,-1]),\n",
    "    np.array([-1,-1]),\n",
    "    np.array([-1,1]),\n",
    "]\n",
    "\n",
    "for p in input_possibilities: \n",
    "    p = np.array(p).reshape(1,2)\n",
    "    q = q.reshape(1,1,32,32)\n",
    "    q = model.predict(q,p,batch_size=1)['screen_out']\n",
    "    imshow_noax(q.reshape((32,32)))\n",
    "    plt.draw()\n",
    "    plt.show()\n",
    "    plt.pause(0.01)\n",
    "    i += 1\n",
    "\n"
   ]
  },
  {
   "cell_type": "code",
   "execution_count": 200,
   "metadata": {
    "collapsed": false
   },
   "outputs": [
    {
     "name": "stdout",
     "output_type": "stream",
     "text": [
      "(25, 32, 32, 1)\n"
     ]
    },
    {
     "data": {
      "image/png": "[encoded data removed]",
      "text/plain": [
       "<matplotlib.figure.Figure at 0x1340ccb10>"
      ]
     },
     "metadata": {},
     "output_type": "display_data"
    }
   ],
   "source": [
    "\n",
    "from cs231n.vis_utils import visualize_grid\n",
    "\n",
    "\n",
    "frames = []\n",
    "\n",
    "i = 0\n",
    "q = q_train[0]\n",
    "p = np.array([[1,1],[1,1],[1,1],[1,1],[1,1],[-1,-1],[-1,-1],[-1,-1],[-1,-1],[-1,-1]])\n",
    "p = p.reshape((10,1,2))\n",
    "\n",
    "while (i < 25): \n",
    "    q = q.reshape(1,1,32,32)\n",
    "    q = model.predict(q,p[i % 10,:],batch_size=99)['screen_out']\n",
    "    frames.append(-1*q.reshape(32,32,1))\n",
    "    i += 1\n",
    "\n",
    "\n",
    "frames = np.array(frames)\n",
    "print frames.shape\n",
    "\n",
    "grid = visualize_grid(frames)\n",
    "grid = grid.reshape((grid.shape[0],-1))\n",
    "plt.imshow(grid.astype('uint8'))\n",
    "plt.axis('off')\n",
    "plt.gcf().set_size_inches(9, 9)\n",
    "plt.show()"
   ]
  },
  {
   "cell_type": "code",
   "execution_count": 203,
   "metadata": {
    "collapsed": false
   },
   "outputs": [
    {
     "data": {
      "text/plain": [
       "0.037313299641163665"
      ]
     },
     "execution_count": 203,
     "metadata": {},
     "output_type": "execute_result"
    }
   ],
   "source": [
    "model.graph.evaluate({'screen_in': q_val, 'control_in': p_val, 'screen_out': y_val})"
   ]
  },
  {
   "cell_type": "code",
   "execution_count": null,
   "metadata": {
    "collapsed": true
   },
   "outputs": [],
   "source": []
  }
 ],
 "metadata": {
  "kernelspec": {
   "display_name": "Python 2",
   "language": "python",
   "name": "python2"
  },
  "language_info": {
   "codemirror_mode": {
    "name": "ipython",
    "version": 2
   },
   "file_extension": ".py",
   "mimetype": "text/x-python",
   "name": "python",
   "nbconvert_exporter": "python",
   "pygments_lexer": "ipython2",
   "version": "2.7.10"
  }
 },
 "nbformat": 4,
 "nbformat_minor": 0
}
